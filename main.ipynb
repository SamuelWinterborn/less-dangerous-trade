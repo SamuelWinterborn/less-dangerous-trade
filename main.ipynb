{
 "cells": [
  {
   "cell_type": "code",
   "execution_count": null,
   "metadata": {},
   "outputs": [],
   "source": [
    "from scripts.classes import TripPlanner\n",
    "\n",
    "tripPlanner = TripPlanner()"
   ]
  },
  {
   "cell_type": "code",
   "execution_count": null,
   "metadata": {},
   "outputs": [],
   "source": [
    "tripPlanner.plan(\"Ubassi/Bloomfield Platform\",\"Gilya/Kendrick Enterprise\",18, minHop=2, deviation=0.7, cargoSpace=104)"
   ]
  }
 ],
 "metadata": {
  "kernelspec": {
   "display_name": "less-dangerous-trade",
   "language": "python",
   "name": "python3"
  },
  "language_info": {
   "codemirror_mode": {
    "name": "ipython",
    "version": 3
   },
   "file_extension": ".py",
   "mimetype": "text/x-python",
   "name": "python",
   "nbconvert_exporter": "python",
   "pygments_lexer": "ipython3",
   "version": "3.8.19"
  },
  "orig_nbformat": 4
 },
 "nbformat": 4,
 "nbformat_minor": 2
}
