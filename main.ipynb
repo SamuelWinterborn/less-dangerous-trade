{
 "cells": [
  {
   "cell_type": "code",
   "execution_count": 1,
   "metadata": {},
   "outputs": [],
   "source": [
    "from scripts.classes import TripPlanner"
   ]
  },
  {
   "cell_type": "code",
   "execution_count": 2,
   "metadata": {},
   "outputs": [
    {
     "name": "stdout",
     "output_type": "stream",
     "text": [
      "LOG: Route planned.\n",
      "LOG: Sectioning route based on mininum hop.\n",
      "LOG: Planning trade for section: [SystemInfo(Ubassi), SystemInfo(Wolf 631)]\n",
      "LOG: Calculating trade route for section...\n",
      "LOG: Calculating trade between SystemInfo(Ubassi) and SystemInfo(Wolf 631)\n",
      "LOG: Straight route found, now calculate deviations...\n",
      "LOG: Section calculated, printing...\n",
      "Ubassi/Bloomfield Platform\n",
      "   BUY Silver x104 \n",
      "Wolf 631/Braun Gateway\n",
      "  Profit: 751192\n",
      "\n",
      "LOG: Planning trade for section: [SystemInfo(Wolf 631), SystemInfo(Gilya)]\n",
      "LOG: Calculating trade route for section...\n",
      "LOG: Calculating trade between SystemInfo(Wolf 631) and SystemInfo(Gilya)\n",
      "LOG: Straight route found, now calculate deviations...\n",
      "LOG: Section calculated, printing...\n",
      "Wolf 631/Szebehely Orbital\n",
      "   BUY HN Shock Mount x104 \n",
      "Gilya/Kendrick Enterprise\n",
      "  Profit: 96096\n",
      "\n",
      "Final Result----------------------------------------\n",
      "Ubassi/Bloomfield Platform\n",
      "   BUY Silver x104 \n",
      "Wolf 631/Braun Gateway\n",
      "  Profit: 751192\n",
      "\n",
      "Wolf 631/Szebehely Orbital\n",
      "   BUY HN Shock Mount x104 \n",
      "Gilya/Kendrick Enterprise\n",
      "  Profit: 96096\n",
      "\n"
     ]
    }
   ],
   "source": [
    "routePlanner = TripPlanner(\"Ubassi/Bloomfield Platform\",\"Gilya/Kendrick Enterprise\",18, minHop=2, deviation=0.7, cargoSpace=104)"
   ]
  }
 ],
 "metadata": {
  "kernelspec": {
   "display_name": "base",
   "language": "python",
   "name": "python3"
  },
  "language_info": {
   "codemirror_mode": {
    "name": "ipython",
    "version": 3
   },
   "file_extension": ".py",
   "mimetype": "text/x-python",
   "name": "python",
   "nbconvert_exporter": "python",
   "pygments_lexer": "ipython3",
   "version": "3.9.12"
  },
  "orig_nbformat": 4
 },
 "nbformat": 4,
 "nbformat_minor": 2
}
